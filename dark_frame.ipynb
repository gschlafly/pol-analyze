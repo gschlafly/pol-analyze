{
 "cells": [
  {
   "cell_type": "code",
   "execution_count": 1,
   "metadata": {},
   "outputs": [],
   "source": [
    "import os\n",
    "import numpy as np\n",
    "from PIL import Image\n",
    "import matplotlib.pyplot as plt"
   ]
  },
  {
   "cell_type": "markdown",
   "metadata": {},
   "source": [
    "Open a raw retardance image."
   ]
  },
  {
   "cell_type": "code",
   "execution_count": 5,
   "metadata": {},
   "outputs": [],
   "source": [
    "rectification_folder = \"C:/Users/Geneva/Box/03_Shared/PolLFM/Xylem cells/rectification/\"\n",
    "ret_filename = os.path.join(rectification_folder, \"raw_ret_slice_14.tif\")"
   ]
  },
  {
   "cell_type": "markdown",
   "metadata": {},
   "source": [
    "Create a dark frame that is the same shape as ret_filename."
   ]
  },
  {
   "cell_type": "code",
   "execution_count": 7,
   "metadata": {},
   "outputs": [],
   "source": [
    "# Open the image\n",
    "ret_image = Image.open(ret_filename)\n",
    "\n",
    "# Convert the image to a numpy array\n",
    "ret_array = np.array(ret_image)\n",
    "\n",
    "# Create a dark frame of the same shape\n",
    "dark_frame = np.zeros_like(ret_array)\n",
    "\n",
    "# Save the dark frame as an image\n",
    "dark_image = Image.fromarray(dark_frame)\n",
    "dark_filename = os.path.join(rectification_folder, \"dark_frame_computed.png\")\n",
    "dark_image.save(dark_filename)"
   ]
  },
  {
   "cell_type": "code",
   "execution_count": null,
   "metadata": {},
   "outputs": [],
   "source": []
  }
 ],
 "metadata": {
  "kernelspec": {
   "display_name": "pol-analyze",
   "language": "python",
   "name": "python3"
  },
  "language_info": {
   "codemirror_mode": {
    "name": "ipython",
    "version": 3
   },
   "file_extension": ".py",
   "mimetype": "text/x-python",
   "name": "python",
   "nbconvert_exporter": "python",
   "pygments_lexer": "ipython3",
   "version": "3.11.5"
  }
 },
 "nbformat": 4,
 "nbformat_minor": 2
}
