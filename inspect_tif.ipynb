{
 "cells": [
  {
   "cell_type": "code",
   "execution_count": null,
   "metadata": {},
   "outputs": [],
   "source": [
    "import os\n",
    "from PIL import Image\n",
    "import numpy as np\n",
    "from form_radiometry import *\n",
    "\n",
    "def verify_image_properties(image_path):\n",
    "    with Image.open(image_path) as img:\n",
    "        # Print the image mode\n",
    "        print(f\"Image mode: {img.mode}\")\n",
    "        \n",
    "        # Optionally convert image mode to ensure we're checking the actual data format\n",
    "        if img.mode == 'I;16':\n",
    "            img = img.convert('I')  # Convert 16-bit unsigned to 32-bit signed integer\n",
    "            print(f\"Converted image mode: {img.mode}\")\n",
    "\n",
    "        # Convert to numpy array to check ndim and dtype\n",
    "        img_array = np.array(img)\n",
    "\n",
    "        # Check ndim\n",
    "        ndim = img_array.ndim\n",
    "        print(f\"ndim: {ndim}\")\n",
    "\n",
    "        # Check if image is 16-bit\n",
    "        is_16bit = img_array.dtype == np.uint16\n",
    "        print(f\"Is 16-bit: {is_16bit}\")\n",
    "\n",
    "        return ndim == 2 and is_16bit\n"
   ]
  },
  {
   "cell_type": "code",
   "execution_count": null,
   "metadata": {},
   "outputs": [],
   "source": [
    "DATA_INTENSITY_DIR = os.path.join(\"data\", \"background_lf\", \"intensity\")\n",
    "DATA_PROC_DIR = os.path.join(\"data\", \"background_lf\", \"processed\")"
   ]
  },
  {
   "cell_type": "code",
   "execution_count": null,
   "metadata": {},
   "outputs": [],
   "source": [
    "intensity_images = load_images(DATA_INTENSITY_DIR)"
   ]
  },
  {
   "cell_type": "code",
   "execution_count": null,
   "metadata": {},
   "outputs": [],
   "source": [
    "min_vals = [np.min(image) for image in intensity_images]\n",
    "max_vals = [np.max(image) for image in intensity_images]\n",
    "print(\"Min values of input images:\", min_vals)\n",
    "print(\"Max values of input images:\", max_vals)"
   ]
  },
  {
   "cell_type": "code",
   "execution_count": null,
   "metadata": {},
   "outputs": [],
   "source": [
    "img_array = intensity_images[0]\n",
    "ndim = img_array.ndim\n",
    "print(f\"ndim: {ndim}\")\n",
    "is_16bit = img_array.dtype == np.uint16\n",
    "print(f\"Is 16-bit: {is_16bit}\")"
   ]
  },
  {
   "cell_type": "code",
   "execution_count": null,
   "metadata": {},
   "outputs": [],
   "source": [
    "intensity_avg_filename = os.path.join(DATA_PROC_DIR, \"bg_intensity_avg.tif\")\n",
    "verify_image_properties(intensity_avg_filename)"
   ]
  },
  {
   "cell_type": "markdown",
   "metadata": {},
   "source": [
    "Verify file path exists"
   ]
  },
  {
   "cell_type": "code",
   "execution_count": null,
   "metadata": {},
   "outputs": [],
   "source": [
    "file_path = 'data\\\\background_lf\\\\processed\\\\bg_intensity_avg.tif'\n",
    "# file_path = 'C:\\\\Users\\\\Geneva\\\\Documents\\\\Code\\\\pol-analyze\\\\data\\\\background_lf\\\\processed\\\\bg_intensity_avg.tif'\n",
    "if not os.path.exists(file_path):\n",
    "    print(f\"File not found: {file_path}\")\n",
    "else:\n",
    "    print(f\"File exists: {file_path}\")"
   ]
  },
  {
   "cell_type": "markdown",
   "metadata": {},
   "source": [
    "### Find a good threshold"
   ]
  },
  {
   "cell_type": "code",
   "execution_count": null,
   "metadata": {},
   "outputs": [],
   "source": [
    "import ipywidgets as widgets\n",
    "from IPython.display import display\n",
    "from ipywidgets import interactive"
   ]
  },
  {
   "cell_type": "code",
   "execution_count": null,
   "metadata": {},
   "outputs": [],
   "source": [
    "with Image.open(intensity_avg_filename) as img:\n",
    "    intensity_avg = np.array(img)"
   ]
  },
  {
   "cell_type": "code",
   "execution_count": null,
   "metadata": {},
   "outputs": [],
   "source": [
    "type(intensity_avg)\n",
    "minimum = np.min(intensity_avg)\n",
    "maximum = np.max(intensity_avg)\n",
    "mean = np.mean(intensity_avg)\n",
    "print(f\"Minimum: {minimum}\")\n",
    "print(f\"Maximum: {maximum}\")\n",
    "print(f\"Mean: {mean}\")"
   ]
  },
  {
   "cell_type": "code",
   "execution_count": null,
   "metadata": {},
   "outputs": [],
   "source": [
    "ths = 0.30\n",
    "intensity_avg_thresholded = threshold_image(intensity_avg, ths=ths)\n",
    "display_image(intensity_avg_thresholded, f'Average Intensity Image Thresholded at {ths}')"
   ]
  },
  {
   "cell_type": "code",
   "execution_count": null,
   "metadata": {},
   "outputs": [],
   "source": [
    "def update_threshold(threshold_value):\n",
    "    ths_cutoff = int(threshold_value * 65535)\n",
    "    intensity_avg_thresholded = np.zeros_like(intensity_avg[:100, :100])\n",
    "    intensity_avg_thresholded[intensity_avg[:100, :100] > ths_cutoff] = 1\n",
    "    \n",
    "    plt.imshow(intensity_avg_thresholded, cmap='gray')\n",
    "    plt.title(f'Threshold Value: {threshold_value}')\n",
    "    plt.axis('off')\n",
    "    plt.show()\n",
    "\n",
    "# Create a slider widget for threshold adjustment\n",
    "threshold_slider = widgets.FloatSlider(\n",
    "    value=0.3,  # Initial threshold value\n",
    "    min=0,\n",
    "    max=1.0,\n",
    "    step=0.01,\n",
    "    description='Threshold:',\n",
    "    continuous_update=True  # Only update the image when the slider is released\n",
    ")"
   ]
  },
  {
   "cell_type": "code",
   "execution_count": null,
   "metadata": {},
   "outputs": [],
   "source": [
    "interactive_plot = interactive(update_threshold, threshold_value=threshold_slider)\n",
    "display(interactive_plot)"
   ]
  },
  {
   "cell_type": "markdown",
   "metadata": {},
   "source": [
    "# Open thresholded image"
   ]
  },
  {
   "cell_type": "code",
   "execution_count": null,
   "metadata": {},
   "outputs": [],
   "source": [
    "threshold_image_filename = os.path.join(DATA_PROC_DIR, \"bg_intensity_avg_ths_30.tif\")\n",
    "with Image.open(threshold_image_filename) as img:\n",
    "    ths_image = np.array(img)"
   ]
  },
  {
   "cell_type": "code",
   "execution_count": null,
   "metadata": {},
   "outputs": [],
   "source": [
    "print(f\"Type: {type(ths_image)}, dtype: {ths_image.dtype}, shape: {ths_image.shape}\")\n",
    "minimum = np.min(ths_image)\n",
    "maximum = np.max(ths_image)\n",
    "mean = np.mean(ths_image)\n",
    "print(f\"Minimum: {minimum}\")\n",
    "print(f\"Maximum: {maximum}\")\n",
    "print(f\"Mean: {mean}\")"
   ]
  },
  {
   "cell_type": "code",
   "execution_count": null,
   "metadata": {},
   "outputs": [],
   "source": [
    "display_image(ths_image, 'Opened Thresholded Image')"
   ]
  },
  {
   "cell_type": "code",
   "execution_count": null,
   "metadata": {},
   "outputs": [],
   "source": [
    "scaled_image = ths_image * 255  # Convert 1s to 255\n",
    "# tifffile.imwrite('binary_image_visual.tif', scaled_image)"
   ]
  },
  {
   "cell_type": "code",
   "execution_count": null,
   "metadata": {},
   "outputs": [],
   "source": []
  }
 ],
 "metadata": {
  "kernelspec": {
   "display_name": "pol-analyze",
   "language": "python",
   "name": "python3"
  },
  "language_info": {
   "codemirror_mode": {
    "name": "ipython",
    "version": 3
   },
   "file_extension": ".py",
   "mimetype": "text/x-python",
   "name": "python",
   "nbconvert_exporter": "python",
   "pygments_lexer": "ipython3",
   "version": "3.11.5"
  }
 },
 "nbformat": 4,
 "nbformat_minor": 2
}
